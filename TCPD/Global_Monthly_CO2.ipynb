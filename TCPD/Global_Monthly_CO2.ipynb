{
 "cells": [
  {
   "cell_type": "markdown",
   "metadata": {},
   "source": [
    "## Global Monthly CO2 Levels"
   ]
  },
  {
   "cell_type": "code",
   "execution_count": 1,
   "metadata": {},
   "outputs": [],
   "source": [
    "import json \n",
    "import pandas as pd \n",
    "import numpy as np \n",
    "import math \n",
    "import itertools \n",
    "import matplotlib.pyplot as plt \n",
    "from matplotlib.pyplot import figure \n",
    "from load_dataset import TimeSeries "
   ]
  },
  {
   "cell_type": "code",
   "execution_count": 2,
   "metadata": {},
   "outputs": [
    {
     "data": {
      "text/html": [
       "<div>\n",
       "<style scoped>\n",
       "    .dataframe tbody tr th:only-of-type {\n",
       "        vertical-align: middle;\n",
       "    }\n",
       "\n",
       "    .dataframe tbody tr th {\n",
       "        vertical-align: top;\n",
       "    }\n",
       "\n",
       "    .dataframe thead th {\n",
       "        text-align: right;\n",
       "    }\n",
       "</style>\n",
       "<table border=\"1\" class=\"dataframe\">\n",
       "  <thead>\n",
       "    <tr style=\"text-align: right;\">\n",
       "      <th></th>\n",
       "      <th>global_co2</th>\n",
       "    </tr>\n",
       "  </thead>\n",
       "  <tbody>\n",
       "    <tr>\n",
       "      <th>6</th>\n",
       "      <td>[]</td>\n",
       "    </tr>\n",
       "    <tr>\n",
       "      <th>7</th>\n",
       "      <td>[46, 90]</td>\n",
       "    </tr>\n",
       "    <tr>\n",
       "      <th>8</th>\n",
       "      <td>[]</td>\n",
       "    </tr>\n",
       "    <tr>\n",
       "      <th>9</th>\n",
       "      <td>[47, 91]</td>\n",
       "    </tr>\n",
       "    <tr>\n",
       "      <th>10</th>\n",
       "      <td>NaN</td>\n",
       "    </tr>\n",
       "    <tr>\n",
       "      <th>12</th>\n",
       "      <td>NaN</td>\n",
       "    </tr>\n",
       "    <tr>\n",
       "      <th>13</th>\n",
       "      <td>[]</td>\n",
       "    </tr>\n",
       "    <tr>\n",
       "      <th>14</th>\n",
       "      <td>NaN</td>\n",
       "    </tr>\n",
       "  </tbody>\n",
       "</table>\n",
       "</div>"
      ],
      "text/plain": [
       "   global_co2\n",
       "6          []\n",
       "7    [46, 90]\n",
       "8          []\n",
       "9    [47, 91]\n",
       "10        NaN\n",
       "12        NaN\n",
       "13         []\n",
       "14        NaN"
      ]
     },
     "execution_count": 2,
     "metadata": {},
     "output_type": "execute_result"
    }
   ],
   "source": [
    "# True labels\n",
    "annotations = pd.read_json('TCPD-master/annotations.json')\n",
    "annotations[['global_co2']]"
   ]
  },
  {
   "cell_type": "code",
   "execution_count": 3,
   "metadata": {},
   "outputs": [
    {
     "data": {
      "text/plain": [
       "[46, 90, 47, 91]"
      ]
     },
     "execution_count": 3,
     "metadata": {},
     "output_type": "execute_result"
    }
   ],
   "source": [
    "# List true changepoints\n",
    "annotator_df = pd.read_json('TCPD-master/annotations.json') \n",
    "global_co2_df = annotator_df[['global_co2']] \n",
    "list2d = np.array(global_co2_df).flatten() \n",
    "list2d = [l for l in list2d if (type(l)==list)] \n",
    "global_co2_annotation_lst = list(itertools.chain.from_iterable(list2d))\n",
    "global_co2_annotation_lst"
   ]
  },
  {
   "cell_type": "code",
   "execution_count": 4,
   "metadata": {},
   "outputs": [
    {
     "name": "stdout",
     "output_type": "stream",
     "text": [
      "t         int64\n",
      "Mean    float64\n",
      "date     object\n",
      "dtype: object\n"
     ]
    },
    {
     "data": {
      "text/plain": [
       "<matplotlib.lines.Line2D at 0x7f94ba35ee80>"
      ]
     },
     "execution_count": 4,
     "metadata": {},
     "output_type": "execute_result"
    },
    {
     "data": {
      "text/plain": [
       "<Figure size 960x480 with 0 Axes>"
      ]
     },
     "metadata": {},
     "output_type": "display_data"
    },
    {
     "data": {
      "image/png": "[encoded data removed]",
      "text/plain": [
       "<Figure size 432x288 with 1 Axes>"
      ]
     },
     "metadata": {
      "needs_background": "light"
     },
     "output_type": "display_data"
    }
   ],
   "source": [
    "# Plot true changepoints\n",
    "from load_dataset import TimeSeries\n",
    "ts = TimeSeries.from_json('TCPD-master/datasets/global_co2/global_co2.json')\n",
    "global_co2_df = ts.df\n",
    "global_co2_df['date'] =ts.datestr\n",
    "print(global_co2_df.dtypes)\n",
    "figure(figsize=(12, 6), dpi=80)\n",
    "global_co2_df.plot('date', 'Mean')\n",
    "global_co2_df['is_CPD'] = np.where(global_co2_df.t.isin(global_co2_annotation_lst), 1,0)\n",
    "plt.axvline(global_co2_df.loc[global_co2_df['is_CPD']==1][['t']].values[0], color='red', linestyle='--')"
   ]
  },
  {
   "cell_type": "code",
   "execution_count": 13,
   "metadata": {},
   "outputs": [
    {
     "name": "stdout",
     "output_type": "stream",
     "text": [
      "     t        Mean        date  is_CPD\n",
      "46  46  280.075871  1784-01-15       1\n",
      "47  47  280.469887  1788-01-15       1\n",
      "48  48  280.881666  1792-01-15       0\n",
      "49  49  281.213576  1796-01-15       0\n",
      "50  50  281.481045  1800-01-15       0\n",
      "51  51  281.808904  1804-01-15       0\n",
      "52  52  282.148594  1808-01-15       0\n",
      "53  53  282.444978  1812-01-15       0\n",
      "54  54  282.713875  1816-01-15       0\n",
      "55  55  282.998032  1820-01-15       0\n",
      "56  56  283.267285  1824-01-15       0\n",
      "57  57  283.379202  1828-01-15       0\n",
      "58  58  283.595363  1832-01-15       0\n",
      "59  59  283.807428  1836-01-15       0\n",
      "60  60  284.030767  1840-01-15       0\n",
      "61  61  284.265360  1844-01-15       0\n",
      "62  62  284.685269  1848-01-15       0\n",
      "63  63  285.210038  1852-01-15       0\n",
      "64  64  285.671793  1856-01-15       0\n",
      "65  65  286.328562  1860-01-15       0\n",
      "66  66  287.043461  1864-01-15       0\n",
      "67  67  287.724559  1868-01-15       0\n",
      "68  68  288.266797  1872-01-15       0\n",
      "69  69  289.108053  1876-01-15       0\n",
      "70  70  290.065054  1880-01-15       0\n",
      "71  71  291.106048  1884-01-15       0\n",
      "72  72  292.308528  1888-01-15       0\n",
      "73  73  293.722101  1892-01-15       0\n",
      "74  74  294.923984  1896-01-15       0\n",
      "75  75  296.205964  1900-01-15       0\n",
      "76  76  297.505131  1904-01-15       0\n",
      "77  77  299.031666  1908-01-15       0\n",
      "78  78  300.783524  1912-01-15       0\n",
      "79  79  302.924852  1916-01-15       0\n",
      "80  80  304.764560  1920-01-15       0\n",
      "81  81  306.208710  1924-01-15       0\n",
      "82  82  307.013533  1928-01-15       0\n",
      "83  83  307.738722  1932-01-15       0\n",
      "84  84  309.399941  1936-01-15       0\n",
      "85  85  311.952609  1940-01-15       0\n",
      "86  86  313.270426  1944-01-15       0\n",
      "87  87  313.369234  1948-01-15       0\n",
      "88  88  314.038258  1952-01-15       0\n",
      "89  89  315.432472  1956-01-15       0\n",
      "90  90  317.092420  1960-01-15       1\n",
      "91  91  319.910040  1964-01-15       1\n"
     ]
    }
   ],
   "source": [
    "print(global_co2_df[46:92])"
   ]
  },
  {
   "cell_type": "code",
   "execution_count": 6,
   "metadata": {},
   "outputs": [
    {
     "name": "stderr",
     "output_type": "stream",
     "text": [
      "<ipython-input-6-27345f18ac2c>:7: SettingWithCopyWarning:\n",
      "\n",
      "\n",
      "A value is trying to be set on a copy of a slice from a DataFrame.\n",
      "Try using .loc[row_indexer,col_indexer] = value instead\n",
      "\n",
      "See the caveats in the documentation: https://pandas.pydata.org/pandas-docs/stable/user_guide/indexing.html#returning-a-view-versus-a-copy\n",
      "\n"
     ]
    },
    {
     "data": {
      "text/html": [
       "<div>\n",
       "<style scoped>\n",
       "    .dataframe tbody tr th:only-of-type {\n",
       "        vertical-align: middle;\n",
       "    }\n",
       "\n",
       "    .dataframe tbody tr th {\n",
       "        vertical-align: top;\n",
       "    }\n",
       "\n",
       "    .dataframe thead th {\n",
       "        text-align: right;\n",
       "    }\n",
       "</style>\n",
       "<table border=\"1\" class=\"dataframe\">\n",
       "  <thead>\n",
       "    <tr style=\"text-align: right;\">\n",
       "      <th></th>\n",
       "      <th>t</th>\n",
       "      <th>Mean</th>\n",
       "      <th>date</th>\n",
       "      <th>is_CPD</th>\n",
       "      <th>time</th>\n",
       "    </tr>\n",
       "  </thead>\n",
       "  <tbody>\n",
       "    <tr>\n",
       "      <th>20</th>\n",
       "      <td>20</td>\n",
       "      <td>277.166481</td>\n",
       "      <td>1680-01-15</td>\n",
       "      <td>0</td>\n",
       "      <td>1680-01-15</td>\n",
       "    </tr>\n",
       "    <tr>\n",
       "      <th>21</th>\n",
       "      <td>21</td>\n",
       "      <td>277.309647</td>\n",
       "      <td>1684-01-15</td>\n",
       "      <td>0</td>\n",
       "      <td>1684-01-15</td>\n",
       "    </tr>\n",
       "    <tr>\n",
       "      <th>22</th>\n",
       "      <td>22</td>\n",
       "      <td>277.390242</td>\n",
       "      <td>1688-01-15</td>\n",
       "      <td>0</td>\n",
       "      <td>1688-01-15</td>\n",
       "    </tr>\n",
       "    <tr>\n",
       "      <th>23</th>\n",
       "      <td>23</td>\n",
       "      <td>277.405034</td>\n",
       "      <td>1692-01-15</td>\n",
       "      <td>0</td>\n",
       "      <td>1692-01-15</td>\n",
       "    </tr>\n",
       "    <tr>\n",
       "      <th>24</th>\n",
       "      <td>24</td>\n",
       "      <td>277.433458</td>\n",
       "      <td>1696-01-15</td>\n",
       "      <td>0</td>\n",
       "      <td>1696-01-15</td>\n",
       "    </tr>\n",
       "    <tr>\n",
       "      <th>...</th>\n",
       "      <td>...</td>\n",
       "      <td>...</td>\n",
       "      <td>...</td>\n",
       "      <td>...</td>\n",
       "      <td>...</td>\n",
       "    </tr>\n",
       "    <tr>\n",
       "      <th>99</th>\n",
       "      <td>99</td>\n",
       "      <td>362.468859</td>\n",
       "      <td>1996-01-15</td>\n",
       "      <td>0</td>\n",
       "      <td>1996-01-15</td>\n",
       "    </tr>\n",
       "    <tr>\n",
       "      <th>100</th>\n",
       "      <td>100</td>\n",
       "      <td>369.785474</td>\n",
       "      <td>2000-01-15</td>\n",
       "      <td>0</td>\n",
       "      <td>2000-01-15</td>\n",
       "    </tr>\n",
       "    <tr>\n",
       "      <th>101</th>\n",
       "      <td>101</td>\n",
       "      <td>377.646011</td>\n",
       "      <td>2004-01-15</td>\n",
       "      <td>0</td>\n",
       "      <td>2004-01-15</td>\n",
       "    </tr>\n",
       "    <tr>\n",
       "      <th>102</th>\n",
       "      <td>102</td>\n",
       "      <td>385.022052</td>\n",
       "      <td>2008-01-15</td>\n",
       "      <td>0</td>\n",
       "      <td>2008-01-15</td>\n",
       "    </tr>\n",
       "    <tr>\n",
       "      <th>103</th>\n",
       "      <td>103</td>\n",
       "      <td>393.368202</td>\n",
       "      <td>2012-01-15</td>\n",
       "      <td>0</td>\n",
       "      <td>2012-01-15</td>\n",
       "    </tr>\n",
       "  </tbody>\n",
       "</table>\n",
       "<p>84 rows × 5 columns</p>\n",
       "</div>"
      ],
      "text/plain": [
       "       t        Mean        date  is_CPD       time\n",
       "20    20  277.166481  1680-01-15       0 1680-01-15\n",
       "21    21  277.309647  1684-01-15       0 1684-01-15\n",
       "22    22  277.390242  1688-01-15       0 1688-01-15\n",
       "23    23  277.405034  1692-01-15       0 1692-01-15\n",
       "24    24  277.433458  1696-01-15       0 1696-01-15\n",
       "..   ...         ...         ...     ...        ...\n",
       "99    99  362.468859  1996-01-15       0 1996-01-15\n",
       "100  100  369.785474  2000-01-15       0 2000-01-15\n",
       "101  101  377.646011  2004-01-15       0 2004-01-15\n",
       "102  102  385.022052  2008-01-15       0 2008-01-15\n",
       "103  103  393.368202  2012-01-15       0 2012-01-15\n",
       "\n",
       "[84 rows x 5 columns]"
      ]
     },
     "execution_count": 6,
     "metadata": {},
     "output_type": "execute_result"
    }
   ],
   "source": [
    "# BOCPD model\n",
    "from kats.detectors.bocpd import BOCPDetector, BOCPDModelType, TrendChangeParameters\n",
    "from kats.consts import TimeSeriesData\n",
    "import datetime as dt\n",
    "\n",
    "df = global_co2_df.iloc[20:]\n",
    "df['time']= pd.to_datetime(df['date'])\n",
    "#df['date'] = df['date'].apply(lambda x: dt.datetime.strptime(x,'%YYYY-%mm-%dd') if type(x)==str else pd.NaT)\n",
    "#tsd = TimeSeriesData(df)\n",
    "df\n",
    "\n"
   ]
  },
  {
   "cell_type": "code",
   "execution_count": 7,
   "metadata": {},
   "outputs": [
    {
     "name": "stderr",
     "output_type": "stream",
     "text": [
      "/Library/Frameworks/Python.framework/Versions/3.8/lib/python3.8/site-packages/ax/core/parameter.py:467: UserWarning:\n",
      "\n",
      "`sort_values` is not specified for `ChoiceParameter` \"known_prec_multiplier\". Defaulting to `True` for parameters of `ParameterType` FLOAT. To override this behavior (or avoid this warning), specify `sort_values` during `ChoiceParameter` construction.\n",
      "\n",
      "/Library/Frameworks/Python.framework/Versions/3.8/lib/python3.8/site-packages/ax/core/parameter.py:467: UserWarning:\n",
      "\n",
      "`sort_values` is not specified for `ChoiceParameter` \"cp_prior\". Defaulting to `True` for parameters of `ParameterType` FLOAT. To override this behavior (or avoid this warning), specify `sort_values` during `ChoiceParameter` construction.\n",
      "\n"
     ]
    },
    {
     "name": "stdout",
     "output_type": "stream",
     "text": [
      "total changepoints-->  1\n"
     ]
    },
    {
     "data": {
      "image/png": "[encoded data removed]",
      "text/plain": [
       "<Figure size 960x480 with 1 Axes>"
      ]
     },
     "metadata": {
      "needs_background": "light"
     },
     "output_type": "display_data"
    }
   ],
   "source": [
    "# Initialize the detector\n",
    "tsd = TimeSeriesData(df.loc[:,['time','Mean']])\n",
    "detector = BOCPDetector(tsd)\n",
    "\n",
    "\n",
    "changepoints = detector.detector(\n",
    "    model=BOCPDModelType.NORMAL_KNOWN_MODEL, # this is the default choice\n",
    "    #model_parameters=[known_prec_multiplier=1.0]\n",
    "    lag=5,\n",
    "    changepoint_prior=.1,#prior belief\n",
    "    threshold=.7\n",
    ")\n",
    "\n",
    "print('total changepoints--> ', len(changepoints))\n",
    "\n",
    "figure(figsize=(12, 6), dpi=80)\n",
    "# Plot the data\n",
    "plt.xticks(rotation=45)\n",
    "detector.plot(changepoints)\n",
    "plt.show()"
   ]
  },
  {
   "cell_type": "code",
   "execution_count": 8,
   "metadata": {},
   "outputs": [
    {
     "data": {
      "text/plain": [
       "[(TimeSeriesChangePoint(start_time: 1988-01-15T00:00:00.000000000, end_time: 1988-01-15T00:00:00.000000000, confidence: 0.7203015151773707),\n",
       "  <kats.detectors.bocpd.BOCPDMetadata at 0x7f94c2655820>)]"
      ]
     },
     "execution_count": 8,
     "metadata": {},
     "output_type": "execute_result"
    }
   ],
   "source": [
    "changepoints"
   ]
  },
  {
   "cell_type": "code",
   "execution_count": 9,
   "metadata": {},
   "outputs": [
    {
     "data": {
      "image/png": "[encoded data removed]",
      "text/plain": [
       "<Figure size 960x480 with 1 Axes>"
      ]
     },
     "metadata": {
      "needs_background": "light"
     },
     "output_type": "display_data"
    }
   ],
   "source": [
    "#Robust Stat Detector\n",
    "from kats.detectors.robust_stat_detection import RobustStatDetector\n",
    "\n",
    "detector = RobustStatDetector(tsd)\n",
    "change_points = detector.detector(comparison_window=5, smoothing_window_size=5, p_value_cutoff=0.05)\n",
    "figure(figsize=(12, 6), dpi=80)\n",
    "plt.xticks(rotation=45)\n",
    "detector.plot(change_points)\n",
    "plt.show()"
   ]
  },
  {
   "cell_type": "code",
   "execution_count": 10,
   "metadata": {},
   "outputs": [
    {
     "data": {
      "text/plain": [
       "[(TimeSeriesChangePoint(start_time: 1988-01-15T00:00:00.000000000, end_time: 1988-01-15T00:00:00.000000000, confidence: 0.9779354219956856),\n",
       "  <kats.detectors.robust_stat_detection.RobustStatMetadata at 0x7f94c26381f0>),\n",
       " (TimeSeriesChangePoint(start_time: 2008-01-15T00:00:00.000000000, end_time: 2008-01-15T00:00:00.000000000, confidence: 0.9997161949337083),\n",
       "  <kats.detectors.robust_stat_detection.RobustStatMetadata at 0x7f94c26381c0>)]"
      ]
     },
     "execution_count": 10,
     "metadata": {},
     "output_type": "execute_result"
    }
   ],
   "source": [
    "change_points"
   ]
  },
  {
   "cell_type": "code",
   "execution_count": 11,
   "metadata": {},
   "outputs": [
    {
     "name": "stdout",
     "output_type": "stream",
     "text": [
      "total changepoints-->  1\n"
     ]
    },
    {
     "data": {
      "image/png": "[encoded data removed]",
      "text/plain": [
       "<Figure size 960x480 with 1 Axes>"
      ]
     },
     "metadata": {
      "needs_background": "light"
     },
     "output_type": "display_data"
    }
   ],
   "source": [
    "# CUSUM\n",
    "from kats.detectors.cusum_detection import CUSUMDetector\n",
    "\n",
    "\n",
    "# Initialize the detector\n",
    "detector = CUSUMDetector(tsd)\n",
    "\n",
    "change_points = detector.detector(threshold=0.05)\n",
    "\n",
    "print('total changepoints--> ', len(change_points))\n",
    "\n",
    "figure(figsize=(12, 6), dpi=80)\n",
    "# Plot the data\n",
    "plt.xticks(rotation=45)\n",
    "detector.plot(change_points)\n",
    "plt.show()"
   ]
  },
  {
   "cell_type": "code",
   "execution_count": 12,
   "metadata": {},
   "outputs": [
    {
     "data": {
      "text/plain": [
       "[(TimeSeriesChangePoint(start_time: 1964-01-15 00:00:00, end_time: 1964-01-15 00:00:00, confidence: 1.0),\n",
       "  <kats.detectors.cusum_detection.CUSUMMetadata at 0x7f94ba64de80>)]"
      ]
     },
     "execution_count": 12,
     "metadata": {},
     "output_type": "execute_result"
    }
   ],
   "source": [
    "change_points"
   ]
  },
  {
   "cell_type": "markdown",
   "metadata": {},
   "source": [
    "#### Annotation -> 1784, 1788, 1960, 1964\n",
    "#### BOCPD -> 1988\n",
    "#### RobustStatDetector -> 1988, 2008\n",
    "#### CUSUM -> 1964"
   ]
  },
  {
   "cell_type": "code",
   "execution_count": null,
   "metadata": {},
   "outputs": [],
   "source": []
  }
 ],
 "metadata": {
  "kernelspec": {
   "display_name": "Python 3",
   "language": "python",
   "name": "python3"
  },
  "language_info": {
   "codemirror_mode": {
    "name": "ipython",
    "version": 3
   },
   "file_extension": ".py",
   "mimetype": "text/x-python",
   "name": "python",
   "nbconvert_exporter": "python",
   "pygments_lexer": "ipython3",
   "version": "3.8.2"
  }
 },
 "nbformat": 4,
 "nbformat_minor": 4
}
