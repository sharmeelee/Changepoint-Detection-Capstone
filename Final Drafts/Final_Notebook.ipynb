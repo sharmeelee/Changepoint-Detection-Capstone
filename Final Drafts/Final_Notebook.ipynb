{
 "cells": [
  {
   "cell_type": "markdown",
   "metadata": {},
   "source": [
    "<h1><center>Detecting Changepoints During Covid-19 Using KATS</center></h1>\n",
    "<center><b>Authors:</b> Dhruv Arora, Priyanka Bijlani, Sharmeelee Bijlani, Divya Pandey, Lakshmi Venkatasubramanian</center>\n",
    "<center><b>Project Sponsor:</b> Sourav Chatterjee</center>"
   ]
  },
  {
   "cell_type": "markdown",
   "metadata": {},
   "source": [
    "## Introduction\n",
    "Meta's Infrastructure Data Science team has released a time-series package called [KATS](https://facebookresearch.github.io/Kats/) to analyze time-series datasets. The KATS package implements multiple changepoint detection algorithms and tries to identify points in a time-series which show a sudden or abrupt change. A changepoint is defined as a ‘persistent change’ in the time series rather than an anomaly or an outlier in the time series data. The goal of this project is to conduct research on time series data and apply the KATS package to multiple datasets in various contexts to assess and evaluate the performance of the time-series algorithms. \n",
    "\n",
    "## Background\n",
    "Changepoint detection has a number of various applications. It is used, for example, in the fields of medicine, aerospace, finance, business, meteorology, and entertainment. Usually, change points are described in terms of changes between segments. To put it simply, a change point divides a time series into multiple segments where each segment has its own statistical characteristics (e.g., mean, variance, etc.). Thus, the change point is located where the underlying characteristics change abruptly. \n",
    "\n",
    "A common way to conduct changepoint detection is a sliding window through the signal. The main idea is to walk through the signal with a window of fixed size. For each step, a function computes a chance of having a changepoint in the current window. This function is usually called the cost function. Thus, for each point in the signal, we obtain a cost value indicating whether there is a change at that point or not. Usually, the costs are “low” as long as there is no change in the window and “high” if there is a change in the window. For example, if the costs exceed a predefined threshold, the point is marked as a changepoint, or the points with the highest costs can be marked as changepoints.\n",
    "\n",
    "\n",
    "The theory of changepoint detection is well established in the literature; several methods have been implemented in standard packages. The question of how to choose the right one is crucial and depends on many factors. As there are many approaches and methods, we present three important factors to make a reasonable decision. First, you need to know your signal and which type of change you have. Second, the runtime plays an important role. Depending on the application, sensors may deliver hundreds of points in one second.  The window-based methods have a runtime of O(T), where T denotes the length of the signal. That is the reason why most of these types of algorithms can be used in online applications. Third, some applications require accurate results. There are other approaches that need a longer runtime but deliver more precise changepoints. Famous methods are, for example, the binary segmentation or bottom-up approaches, which take O(T log(T)) time, but they are still approximations. We will be reviewing the KATS package on multiple parameters mentioned above that would characterize the performance of the package.\n",
    "\n",
    "\n",
    "## Problem Statement\n",
    "As part of this project, we have evaluated the performance of the algorithms in the KATS package based on their ability to accurately detect changepoints. The data we will utilize for performance validation is datasets used in the [Turing Change Point Dataset Benchmark Study](https://github.com/alan-turing-institute/TCPD) and the [Google Mobility Dataset](https://www.google.com/covid19/mobility/) with true labels in the time-series as known by public knowledge. The goal is to derive true stories about the events during Covid-19 based on the retrospectively detected changepoints. This notebook assesses the strengths and shortcomings of the various algorithms implemented in the KATS package and also strives to provide recommendations to improve the algorithms from the applied research conducted as a part of this project.\n",
    "\n",
    "This notebook contains the following sections:\n",
    "1. Evaluating changepoint detection algorithms using TCPD benchmark study\n",
    "2. Applying changepoint algorithms to the Google Mobility data\n",
    "3. Telling the Covid-19 story through changepoints"
   ]
  },
  {
   "cell_type": "markdown",
   "metadata": {},
   "source": [
    "## Section 1: Algorithm Evaluation with TCPD Study\n",
    "There are two main challenges with changepoint detection problems. The first challenge is using the algorithms to identify changepoints in the dataset since the true label is unknown. This makes it hard to do model evaluation and cross-algorithm performance comparison. The second challenge is to identify the optimal number of changepoints by tuning hyperparameters. \n",
    "The Turing Changepoint Datasets benchmark was designed to overcome these exact challenges. The study provides a collection of over 30 datasets with annotated changepoints which can be taken as true changepoints and evaluated against detected changepoints to calculate metrics such as precision and recall for changepoint detection algorithms. The true changepoints were crowdsourced through the [AnnotateChange](https://github.com/alan-turing-institute/annotatechange) tool under the guidance to segment a time-series by points of abrupt change. For the purpose of our assessment, we have interpreted any repeated annotation for a dataset to be a true changepoint. \n",
    "\n",
    "### Methodology\n",
    "In this section, we evaluated each changepoint detection algorithm from the KATS package using the datasets from the Turing study. The code snippets below provide an analysis of an algorithm and it's parameters optimized to find the changepoints closest to the true changepoints and with highest confidence. The purpose of this excercise is to assess the advantages and shortcomings of each algorithm in the KATS package. These insights will be used to determine which algorithm is best suited for Google Mobility data for detecting changepoints during Covid. \n",
    "\n",
    "### 1a. Evaluating RobustStatDetector\n",
    "The Robust Stat Detector detects shifts in mean in a time-series. It takes into account a fixed number of points (comparison_window) over which to calculate the mean (smoothing_window_size) and detects changepoints within a given confidence level (p_value_cutoff). "
   ]
  },
  {
   "cell_type": "markdown",
   "metadata": {},
   "source": [
    "### 1b. Evaluating BOCPDetector"
   ]
  },
  {
   "cell_type": "markdown",
   "metadata": {},
   "source": [
    "### 1c. Evaluating CUSUMDetector"
   ]
  },
  {
   "cell_type": "markdown",
   "metadata": {},
   "source": [
    "### Observations"
   ]
  },
  {
   "cell_type": "markdown",
   "metadata": {},
   "source": [
    "## Section 2: Applied Research on Google Mobility Data\n",
    "With the observations found from the sections prior, we can now apply the KATS algorithms to a larger dataset with over 20,000 rows. We start by exploring the Google Mobility dataset 2020 for the United States which can be downloaded from [here](https://www.google.com/covid19/mobility/).\n",
    "\n",
    "The data shows how visits to places, such as grocery stores and parks, are changing in each geographic region compared to a baseline. The baseline is the median value, for the corresponding day of the week, during the five week period Jan 3–Feb 6, 2020. For each region-category, the baseline isn’t a single value. It is seven individual values. The same number of visitors on two different days of the week result in different percentage changes.\n",
    "Larger changes do not mean more visitors and smaller changes do not mean less visitors. Day to day comparison of changes will lead to misleading results. \n",
    "Mobility trends are measured across six broad categories:\n",
    "* Residential: places of residence.\n",
    "* Grocery & Pharmacy stores: places like grocery markets, food warehouses, farmers markets, specialty food shops, drug stores, and pharmacies.\n",
    "* Workplaces: places of work.\n",
    "* Parks: places like local parks, national parks, public beaches, marinas, dog parks, plazas, and public gardens.\n",
    "* Transit stations: places like public transport hubs such as subway, bus, and train stations.\n",
    "* Retail & Recreation: places like restaurants, cafes, shopping centers, theme parks, museums, libraries, and movie theaters.\n",
    "\n",
    "The 'Residential' category shows a change in duration, while the other categories measure a change in total visitors.\n",
    "The dataset has 812065 observations and 15 features. The data is completely anonymized from users who have turned on the Location History setting, which is off by default. If there’s not enough data for an estimate of change from the baseline, that means Google wasn’t able to confidently and anonymously compute the estimate.\n",
    "\n",
    "### Methodology\n",
    "\n",
    "In this section, we apply each changepoint detection algorithm to the Google Mobility dataset to validate our conclusions from the previous sections as well as validate how well the algorithms perform on a real-world scenario in which there are no concrete, labelled changepoints. \n",
    "\n",
    "### 2a. Application of RSDetector\n"
   ]
  },
  {
   "cell_type": "markdown",
   "metadata": {},
   "source": [
    "### 2b. Application of BOCPDetector"
   ]
  },
  {
   "cell_type": "markdown",
   "metadata": {},
   "source": [
    "### 2c. Application of CUSUMDetector"
   ]
  },
  {
   "cell_type": "markdown",
   "metadata": {},
   "source": [
    "### Observations"
   ]
  },
  {
   "cell_type": "markdown",
   "metadata": {},
   "source": [
    "## Section 3: The Covid-19 Story"
   ]
  },
  {
   "cell_type": "markdown",
   "metadata": {},
   "source": [
    "### 3a. Covid-19 in the United States"
   ]
  },
  {
   "cell_type": "markdown",
   "metadata": {},
   "source": [
    "### 3b. Covid-19 in Washington State"
   ]
  },
  {
   "cell_type": "markdown",
   "metadata": {},
   "source": [
    "### 3c. Covid-19 in King County"
   ]
  },
  {
   "cell_type": "markdown",
   "metadata": {},
   "source": [
    "## Conclusion\n",
    "### Recommendations\n",
    "### Further Study"
   ]
  },
  {
   "cell_type": "code",
   "execution_count": null,
   "metadata": {},
   "outputs": [],
   "source": []
  }
 ],
 "metadata": {
  "kernelspec": {
   "display_name": "Python 3",
   "language": "python",
   "name": "python3"
  },
  "language_info": {
   "codemirror_mode": {
    "name": "ipython",
    "version": 3
   },
   "file_extension": ".py",
   "mimetype": "text/x-python",
   "name": "python",
   "nbconvert_exporter": "python",
   "pygments_lexer": "ipython3",
   "version": "3.8.2"
  }
 },
 "nbformat": 4,
 "nbformat_minor": 4
}
